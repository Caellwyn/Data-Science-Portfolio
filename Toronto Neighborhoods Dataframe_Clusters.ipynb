{
    "cells": [
        {
            "cell_type": "markdown",
            "metadata": {},
            "source": "### Toronto Neighborhoods: an exploration and clustering"
        },
        {
            "cell_type": "markdown",
            "metadata": {},
            "source": "*Let's install the libraries we will use today*"
        },
        {
            "cell_type": "code",
            "execution_count": 1,
            "metadata": {},
            "outputs": [
                {
                    "name": "stdout",
                    "output_type": "stream",
                    "text": "Solving environment: done\n\n# All requested packages already installed.\n\nSolving environment: - ^C\nfailed\n\nCondaError: KeyboardInterrupt\n\n"
                },
                {
                    "ename": "ModuleNotFoundError",
                    "evalue": "No module named 'folium'",
                    "output_type": "error",
                    "traceback": [
                        "\u001b[0;31m---------------------------------------------------------------------------\u001b[0m",
                        "\u001b[0;31mModuleNotFoundError\u001b[0m                       Traceback (most recent call last)",
                        "\u001b[0;32m<ipython-input-1-ac76a7d26e26>\u001b[0m in \u001b[0;36m<module>\u001b[0;34m\u001b[0m\n\u001b[1;32m     21\u001b[0m \u001b[0;34m\u001b[0m\u001b[0m\n\u001b[1;32m     22\u001b[0m \u001b[0mget_ipython\u001b[0m\u001b[0;34m(\u001b[0m\u001b[0;34m)\u001b[0m\u001b[0;34m.\u001b[0m\u001b[0msystem\u001b[0m\u001b[0;34m(\u001b[0m\u001b[0;34m\"conda install -c conda-forge folium=0.5.0 --yes # uncomment this line if you haven't completed the Foursquare API lab\"\u001b[0m\u001b[0;34m)\u001b[0m\u001b[0;34m\u001b[0m\u001b[0;34m\u001b[0m\u001b[0m\n\u001b[0;32m---> 23\u001b[0;31m \u001b[0;32mimport\u001b[0m \u001b[0mfolium\u001b[0m \u001b[0;31m# map rendering library\u001b[0m\u001b[0;34m\u001b[0m\u001b[0;34m\u001b[0m\u001b[0m\n\u001b[0m\u001b[1;32m     24\u001b[0m \u001b[0;34m\u001b[0m\u001b[0m\n\u001b[1;32m     25\u001b[0m \u001b[0mprint\u001b[0m\u001b[0;34m(\u001b[0m\u001b[0;34m'Libraries imported.'\u001b[0m\u001b[0;34m)\u001b[0m\u001b[0;34m\u001b[0m\u001b[0;34m\u001b[0m\u001b[0m\n",
                        "\u001b[0;31mModuleNotFoundError\u001b[0m: No module named 'folium'"
                    ]
                }
            ],
            "source": "import numpy as np # library to handle data in a vectorized manner\n\nimport pandas as pd # library for data analsysis\npd.set_option('display.max_columns', None)\npd.set_option('display.max_rows', None)\n\nimport json # library to handle JSON files\n\n#!conda install -c conda-forge geopy --yes # uncomment this line if you haven't completed the Foursquare API lab\nfrom geopy.geocoders import Nominatim # convert an address into latitude and longitude values\n\nimport requests # library to handle requests\nfrom pandas.io.json import json_normalize # tranform JSON file into a pandas dataframe\n\n# Matplotlib and associated plotting modules\n#import matplotlib.cm as cm\n#import matplotlib.colors as colors\n\n# import k-means from clustering stage\n#from sklearn.cluster import KMeans\n\n#!conda install -c conda-forge folium=0.5.0 --yes # uncomment this line if you haven't completed the Foursquare API lab\n#import folium # map rendering library\n\nprint('Libraries imported.')"
        },
        {
            "cell_type": "markdown",
            "metadata": {},
            "source": "**Our next task is to download the data from Wikipedia and read it into a Pandas dataframe**"
        },
        {
            "cell_type": "code",
            "execution_count": null,
            "metadata": {},
            "outputs": [],
            "source": "url = 'https://en.wikipedia.org/wiki/List_of_postal_codes_of_Canada:_M'\nresults = requests.get(url)\nprint('Data downloaded!')\nTneighbors = pd.read_html(results.text)"
        },
        {
            "cell_type": "markdown",
            "metadata": {},
            "source": "*Since our data is in a list of DataFrames, we pull out the first one, which is the one we want.*"
        },
        {
            "cell_type": "code",
            "execution_count": null,
            "metadata": {},
            "outputs": [],
            "source": "Tneighbors = Tneighbors[0]\nTneighbors"
        },
        {
            "cell_type": "markdown",
            "metadata": {},
            "source": "**Our next task will be to clean up the data some.** \n\n*First, let's elimnate the rows that have neither a Borough or a Neighborhood assigned* \n\n*Here we will create mask of booleans that tells us if a cell in 'Borough' column is \"Not assigned\"*"
        },
        {
            "cell_type": "code",
            "execution_count": null,
            "metadata": {},
            "outputs": [],
            "source": "Tneighborsmask = Tneighbors['Borough'] != 'Not assigned'"
        },
        {
            "cell_type": "markdown",
            "metadata": {},
            "source": "*By passing the mask to the dataframe, it removes the rows that correspond to **False** in the mask*"
        },
        {
            "cell_type": "code",
            "execution_count": null,
            "metadata": {},
            "outputs": [],
            "source": "Tneighbors = Tneighbors[Tneighborsmask]\nTneighbors.reset_index(drop=True,inplace=True)"
        },
        {
            "cell_type": "markdown",
            "metadata": {},
            "source": "*Now we find the **Neighborhoods** that are are set to \"Not assigned\" and make those equal to the \"Borough\" column for that row.*"
        },
        {
            "cell_type": "code",
            "execution_count": null,
            "metadata": {},
            "outputs": [],
            "source": "for index, row in Tneighbors.iterrows():\n    if row['Neighbourhood'] == \"Not assigned\":\n        row['Neighbourhood'] = row['Borough']"
        },
        {
            "cell_type": "markdown",
            "metadata": {},
            "source": "**Finally, we group the dataframe by 'Postcode' and 'Borough' and then aggregate the subtables by using a join with \", \".**"
        },
        {
            "cell_type": "code",
            "execution_count": null,
            "metadata": {},
            "outputs": [],
            "source": "grouped = Tneighbors.groupby(['Postcode', 'Borough'], as_index=False)\nneighgroup = grouped.agg({'Neighbourhood':\", \".join})\nneighgroup = neighgroup.sort_values(['Postcode'], ascending=True)\nneighgroup"
        },
        {
            "cell_type": "markdown",
            "metadata": {},
            "source": "## Our data frame now is sorted by postal code, and grouped by Borough."
        },
        {
            "cell_type": "markdown",
            "metadata": {},
            "source": "**Let's look at the shape, to make sure we ended up with what we expeced**"
        },
        {
            "cell_type": "code",
            "execution_count": null,
            "metadata": {},
            "outputs": [],
            "source": "neighgroup.shape"
        }
    ],
    "metadata": {
        "kernelspec": {
            "display_name": "Python 3.6",
            "language": "python",
            "name": "python3"
        },
        "language_info": {
            "codemirror_mode": {
                "name": "ipython",
                "version": 3
            },
            "file_extension": ".py",
            "mimetype": "text/x-python",
            "name": "python",
            "nbconvert_exporter": "python",
            "pygments_lexer": "ipython3",
            "version": "3.6.9"
        }
    },
    "nbformat": 4,
    "nbformat_minor": 1
}